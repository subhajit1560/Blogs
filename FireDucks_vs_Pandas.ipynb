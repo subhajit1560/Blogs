{
  "cells": [
    {
      "cell_type": "markdown",
      "metadata": {
        "id": "view-in-github",
        "colab_type": "text"
      },
      "source": [
        "<a href=\"https://colab.research.google.com/github/subhajit1560/Blogs/blob/main/FireDucks_vs_Pandas.ipynb\" target=\"_parent\"><img src=\"https://colab.research.google.com/assets/colab-badge.svg\" alt=\"Open In Colab\"/></a>"
      ]
    },
    {
      "cell_type": "code",
      "execution_count": null,
      "metadata": {
        "id": "FqF2aCCPUShb",
        "colab": {
          "base_uri": "https://localhost:8080/"
        },
        "outputId": "a8058716-8d83-4704-c7bd-7eb73b563a57"
      },
      "outputs": [
        {
          "output_type": "stream",
          "name": "stdout",
          "text": [
            "Collecting fireducks\n",
            "  Downloading fireducks-1.2.6-cp311-cp311-manylinux_2_28_x86_64.whl.metadata (1.0 kB)\n",
            "Collecting firefw==1.2.6 (from fireducks)\n",
            "  Downloading firefw-1.2.6-py3-none-any.whl.metadata (818 bytes)\n",
            "Requirement already satisfied: pandas<2.3.0,>=1.5.3 in /usr/local/lib/python3.11/dist-packages (from fireducks) (2.2.2)\n",
            "Collecting pyarrow<19.1,>=19.0 (from fireducks)\n",
            "  Downloading pyarrow-19.0.1-cp311-cp311-manylinux_2_28_x86_64.whl.metadata (3.3 kB)\n",
            "Requirement already satisfied: numpy>=1.23.2 in /usr/local/lib/python3.11/dist-packages (from pandas<2.3.0,>=1.5.3->fireducks) (2.0.2)\n",
            "Requirement already satisfied: python-dateutil>=2.8.2 in /usr/local/lib/python3.11/dist-packages (from pandas<2.3.0,>=1.5.3->fireducks) (2.8.2)\n",
            "Requirement already satisfied: pytz>=2020.1 in /usr/local/lib/python3.11/dist-packages (from pandas<2.3.0,>=1.5.3->fireducks) (2025.2)\n",
            "Requirement already satisfied: tzdata>=2022.7 in /usr/local/lib/python3.11/dist-packages (from pandas<2.3.0,>=1.5.3->fireducks) (2025.2)\n",
            "Requirement already satisfied: six>=1.5 in /usr/local/lib/python3.11/dist-packages (from python-dateutil>=2.8.2->pandas<2.3.0,>=1.5.3->fireducks) (1.17.0)\n",
            "Downloading fireducks-1.2.6-cp311-cp311-manylinux_2_28_x86_64.whl (7.4 MB)\n",
            "\u001b[2K   \u001b[90m━━━━━━━━━━━━━━━━━━━━━━━━━━━━━━━━━━━━━━━━\u001b[0m \u001b[32m7.4/7.4 MB\u001b[0m \u001b[31m37.7 MB/s\u001b[0m eta \u001b[36m0:00:00\u001b[0m\n",
            "\u001b[?25hDownloading firefw-1.2.6-py3-none-any.whl (12 kB)\n",
            "Downloading pyarrow-19.0.1-cp311-cp311-manylinux_2_28_x86_64.whl (42.1 MB)\n",
            "\u001b[2K   \u001b[90m━━━━━━━━━━━━━━━━━━━━━━━━━━━━━━━━━━━━━━━━\u001b[0m \u001b[32m42.1/42.1 MB\u001b[0m \u001b[31m14.8 MB/s\u001b[0m eta \u001b[36m0:00:00\u001b[0m\n",
            "\u001b[?25hInstalling collected packages: pyarrow, firefw, fireducks\n",
            "  Attempting uninstall: pyarrow\n",
            "    Found existing installation: pyarrow 18.1.0\n",
            "    Uninstalling pyarrow-18.1.0:\n",
            "      Successfully uninstalled pyarrow-18.1.0\n",
            "Successfully installed fireducks-1.2.6 firefw-1.2.6 pyarrow-19.0.1\n"
          ]
        }
      ],
      "source": [
        "!pip install fireducks"
      ]
    },
    {
      "cell_type": "code",
      "execution_count": null,
      "metadata": {
        "id": "3roUn9XiUE8G",
        "colab": {
          "base_uri": "https://localhost:8080/"
        },
        "outputId": "6401197c-5327-4e4f-f14a-4e7acbd9ce17"
      },
      "outputs": [
        {
          "output_type": "execute_result",
          "data": {
            "text/plain": [
              "('taxi.csv', <http.client.HTTPMessage at 0x7bacfcfebf10>)"
            ]
          },
          "metadata": {},
          "execution_count": 2
        }
      ],
      "source": [
        "# download the dataset:\n",
        "\n",
        "import urllib.request\n",
        "s3_path = \"https://modin-datasets.s3.amazonaws.com/testing/yellow_tripdata_2015-01.csv\"\n",
        "urllib.request.urlretrieve(s3_path, \"taxi.csv\")"
      ]
    },
    {
      "cell_type": "markdown",
      "source": [
        "# FireDucks"
      ],
      "metadata": {
        "id": "lvwoJMg82ubd"
      }
    },
    {
      "cell_type": "code",
      "execution_count": null,
      "metadata": {
        "id": "fzuTMjVznk84"
      },
      "outputs": [],
      "source": [
        "import fireducks.pandas as pd\n",
        "import time"
      ]
    },
    {
      "cell_type": "code",
      "source": [
        "start = time.time()\n",
        "\n",
        "df = pd.read_csv(\"taxi.csv\")\n",
        "\n",
        "big_df = pd.concat([df for _ in range(20)])\n",
        "\n",
        "df = df.drop(columns = [\"congestion_surcharge\", \"airport_fee\"])\n",
        "\n",
        "new_df = df.sort_values(by = \"fare_amount\").reset_index(drop=True)\n",
        "\n",
        "t1 = big_df.groupby(\"PULocationID\").mta_tax.mean().reset_index()\n",
        "t2 = big_df.groupby(\"PULocationID\").tip_amount.mean().reset_index()\n",
        "t3 = big_df.groupby(\"PULocationID\").tolls_amount.mean().reset_index()\n",
        "t4 = big_df.groupby(\"PULocationID\").trip_distance.mean().reset_index()\n",
        "\n",
        "\n",
        "t5 = big_df.groupby(\"DOLocationID\").mta_tax.mean().reset_index()\n",
        "t6 = big_df.groupby(\"DOLocationID\").tip_amount.mean().reset_index()\n",
        "t7 = big_df.groupby(\"DOLocationID\").tolls_amount.mean().reset_index()\n",
        "t8 = big_df.groupby(\"DOLocationID\").trip_distance.mean().reset_index()\n",
        "\n",
        "a = (t1._evaluate(), t2._evaluate(), t3._evaluate(), t4._evaluate(),\n",
        "     t5._evaluate(), t6._evaluate(), t7._evaluate(), t8._evaluate())\n",
        "\n",
        "print(f\"FireDucks run-time = {round(time.time()-start, 4)} seconds\")"
      ],
      "metadata": {
        "id": "u-FT1j8W2f2c",
        "colab": {
          "base_uri": "https://localhost:8080/"
        },
        "outputId": "5eb31df1-dbc6-43f8-aeed-378fc6504200"
      },
      "execution_count": null,
      "outputs": [
        {
          "output_type": "stream",
          "name": "stdout",
          "text": [
            "FireDucks run-time = 9.9916 seconds\n"
          ]
        }
      ]
    },
    {
      "cell_type": "markdown",
      "source": [
        "# Pandas\n",
        "\n",
        "Restart the session and run Pandas code"
      ],
      "metadata": {
        "id": "1p0vHm4p2xqe"
      }
    },
    {
      "cell_type": "code",
      "source": [
        "import pandas as pd\n",
        "import time"
      ],
      "metadata": {
        "id": "vtNqCfQD2qjO"
      },
      "execution_count": null,
      "outputs": []
    },
    {
      "cell_type": "code",
      "source": [
        "start = time.time()\n",
        "\n",
        "df = pd.read_csv(\"taxi.csv\")\n",
        "\n",
        "big_df = pd.concat([df for _ in range(20)])\n",
        "\n",
        "df = df.drop(columns = [\"congestion_surcharge\", \"airport_fee\"])\n",
        "\n",
        "new_df = df.sort_values(by = \"fare_amount\").reset_index(drop=True)\n",
        "\n",
        "t1 = big_df.groupby(\"PULocationID\").mta_tax.mean().reset_index()\n",
        "t2 = big_df.groupby(\"PULocationID\").tip_amount.mean().reset_index()\n",
        "t3 = big_df.groupby(\"PULocationID\").tolls_amount.mean().reset_index()\n",
        "t4 = big_df.groupby(\"PULocationID\").trip_distance.mean().reset_index()\n",
        "\n",
        "\n",
        "t5 = big_df.groupby(\"DOLocationID\").mta_tax.mean().reset_index()\n",
        "t6 = big_df.groupby(\"DOLocationID\").tip_amount.mean().reset_index()\n",
        "t7 = big_df.groupby(\"DOLocationID\").tolls_amount.mean().reset_index()\n",
        "t8 = big_df.groupby(\"DOLocationID\").trip_distance.mean().reset_index()\n",
        "\n",
        "a = (t1, t2, t3, t4,\n",
        "     t5, t6, t7, t8)\n",
        "\n",
        "print(f\"Pandas run-time = {round(time.time()-start, 4)} seconds\")"
      ],
      "metadata": {
        "id": "JDxw2EbM2zpG",
        "colab": {
          "base_uri": "https://localhost:8080/"
        },
        "outputId": "e3200f73-f00d-4b0b-bd72-7500f9116f9c"
      },
      "execution_count": null,
      "outputs": [
        {
          "output_type": "stream",
          "name": "stdout",
          "text": [
            "Pandas run-time = 17.6019 seconds\n"
          ]
        }
      ]
    },
    {
      "cell_type": "markdown",
      "source": [
        "Creating a DataFrame"
      ],
      "metadata": {
        "id": "gcQRXnaiWYH-"
      }
    },
    {
      "cell_type": "code",
      "source": [
        "import pandas as pd\n",
        "data = {'col1': [1, 2, 3], 'col2': [4, 5, 6]}\n",
        "df_pandas = pd.DataFrame(data)"
      ],
      "metadata": {
        "id": "d0050jB7VKOF"
      },
      "execution_count": null,
      "outputs": []
    },
    {
      "cell_type": "code",
      "source": [
        "import fireducks.pandas as fpd #or import fireducks as fd\n",
        "import pandas as pd #used to create pandas dataframe first\n",
        "data = {'col1': [1, 2, 3], 'col2': [4, 5, 6]}\n",
        "df_pandas = pd.DataFrame(data)\n",
        "df_fireducks = fpd.DataFrame(df_pandas) # Converting from a Pandas DataFrame\n",
        "#OR\n",
        "#data = {'col1': [1, 2, 3], 'col2': [4, 5, 6]}\n",
        "#df_fireducks = fd.DataFrame(data)"
      ],
      "metadata": {
        "id": "D7ucRWWeVPdT"
      },
      "execution_count": null,
      "outputs": []
    },
    {
      "cell_type": "markdown",
      "source": [
        "Reading a CSV File"
      ],
      "metadata": {
        "id": "0uHaR6AdWq_9"
      }
    },
    {
      "cell_type": "code",
      "source": [
        "import pandas as pd\n",
        "df_pandas = pd.read_csv('taxi.csv')"
      ],
      "metadata": {
        "id": "pfEUECXvVTRN"
      },
      "execution_count": null,
      "outputs": []
    },
    {
      "cell_type": "code",
      "source": [
        "import fireducks.pandas as fpd # or import fireducks as fd\n",
        "df_fireducks = fpd.read_csv('taxi.csv')"
      ],
      "metadata": {
        "id": "jPRRl1a2Vfev"
      },
      "execution_count": null,
      "outputs": []
    },
    {
      "cell_type": "markdown",
      "source": [
        "Grouping and Aggregation"
      ],
      "metadata": {
        "id": "Ei8HWzjrWvrX"
      }
    },
    {
      "cell_type": "code",
      "source": [
        "import pandas as pd\n",
        "data = {'group_col': ['A', 'A', 'B', 'B', 'A'], 'value_col': [1, 2, 3, 4, 5]}\n",
        "df_pandas = pd.DataFrame(data)\n",
        "result_pandas = df_pandas.groupby('group_col')['value_col'].sum()"
      ],
      "metadata": {
        "id": "2y-5ZGUzVhqq"
      },
      "execution_count": null,
      "outputs": []
    },
    {
      "cell_type": "code",
      "source": [
        "import fireducks.pandas as fpd # or import fireducks as fd\n",
        "import pandas as pd\n",
        "data = {'group_col': ['A', 'A', 'B', 'B', 'A'], 'value_col': [1, 2, 3, 4, 5]}\n",
        "df_pandas = pd.DataFrame(data)\n",
        "df_fireducks = fpd.DataFrame(df_pandas)\n",
        "result_fireducks = df_fireducks.groupby('group_col')['value_col'].sum()"
      ],
      "metadata": {
        "id": "zidHDA7-VnO3"
      },
      "execution_count": null,
      "outputs": []
    },
    {
      "cell_type": "markdown",
      "source": [
        "Performance Comparison"
      ],
      "metadata": {
        "id": "ia8amRI7W6-T"
      }
    },
    {
      "cell_type": "code",
      "source": [
        "import pandas as pd\n",
        "import fireducks.pandas as fpd\n",
        "import numpy as np\n",
        "import time\n",
        "import matplotlib.pyplot as plt\n",
        "\n",
        "# 1. Generate Sample Data\n",
        "num_rows = 1000000  # Adjust for dataset size\n",
        "data = {\n",
        "    'A': np.random.randint(1, 100, num_rows),\n",
        "    'B': np.random.rand(num_rows),\n",
        "    'C': np.random.choice(['X', 'Y', 'Z'], num_rows)\n",
        "}\n",
        "df_pandas = pd.DataFrame(data)\n",
        "df_fireducks = fpd.DataFrame(df_pandas)\n",
        "\n",
        "# 2. Define Operations to Benchmark\n",
        "def groupby_sum(df, column1, column2):\n",
        "    return df.groupby(column1)[column2].sum()\n",
        "\n",
        "def simple_filter(df, column, value):\n",
        "    return df[df[column] > value]\n",
        "\n",
        "# Add more functions as necessary\n",
        "operations = {\n",
        "    \"Groupby Sum\": (groupby_sum, ('A', 'B')),\n",
        "    \"Filter\": (simple_filter, ('B', 0.5)),\n",
        "    # \"Join\": (join_operation, ('df1', 'df2', 'key_column')),  # Example, define a join operation\n",
        "}\n",
        "# 3. Benchmark the operations\n",
        "pandas_times = []\n",
        "fireducks_times = []\n",
        "\n",
        "for op_name, (operation, columns) in operations.items():\n",
        "    # Pandas\n",
        "    start_time = time.time()\n",
        "    operation(df_pandas, *columns)\n",
        "    pandas_time = time.time() - start_time\n",
        "    pandas_times.append(pandas_time)\n",
        "\n",
        "    # Fireducks\n",
        "    start_time = time.time()\n",
        "    operation(df_fireducks, *columns)\n",
        "    fireducks_time = time.time() - start_time\n",
        "    fireducks_times.append(fireducks_time)\n",
        "\n",
        "# 4. Plotting the Results\n",
        "op_names = list(operations.keys()) # Get the names of the operations\n",
        "x = np.arange(len(op_names))\n",
        "width = 0.35\n",
        "\n",
        "fig, ax = plt.subplots()\n",
        "rects1 = ax.bar(x - width/2, pandas_times, width, label='Pandas')\n",
        "rects2 = ax.bar(x + width/2, fireducks_times, width, label='Fireducks')\n",
        "\n",
        "# Add some text for labels, title and axes ticks\n",
        "ax.set_xlabel('Operations')\n",
        "ax.set_ylabel('Time (seconds)')\n",
        "ax.set_title('Pandas vs. Fireducks Performance')\n",
        "ax.set_xticks(x)\n",
        "ax.set_xticklabels(op_names)\n",
        "ax.legend()\n",
        "\n",
        "fig.tight_layout()\n",
        "plt.show()\n"
      ],
      "metadata": {
        "colab": {
          "base_uri": "https://localhost:8080/",
          "height": 487
        },
        "id": "kWJFHWN3WDgP",
        "outputId": "c54afe0d-ba34-4f71-e472-c81f15adfb19"
      },
      "execution_count": null,
      "outputs": [
        {
          "output_type": "display_data",
          "data": {
            "text/plain": [
              "<Figure size 640x480 with 1 Axes>"
            ],
            "image/png": "[encoded data removed]"
          },
          "metadata": {}
        }
      ]
    }
  ],
  "metadata": {
    "colab": {
      "provenance": [],
      "gpuType": "T4",
      "include_colab_link": true
    },
    "kernelspec": {
      "display_name": "Python 3",
      "name": "python3"
    },
    "language_info": {
      "name": "python"
    },
    "accelerator": "GPU"
  },
  "nbformat": 4,
  "nbformat_minor": 0
}